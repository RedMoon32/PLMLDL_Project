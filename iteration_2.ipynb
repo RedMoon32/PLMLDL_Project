{
 "cells": [
  {
   "source": [
    "### Prepare and clean the data"
   ],
   "cell_type": "markdown",
   "metadata": {}
  },
  {
   "cell_type": "code",
   "execution_count": 1,
   "metadata": {},
   "outputs": [],
   "source": [
    "import pandas as pd"
   ]
  },
  {
   "cell_type": "code",
   "execution_count": 2,
   "metadata": {},
   "outputs": [
    {
     "output_type": "stream",
     "name": "stdout",
     "text": [
      "Wall time: 17.7 s\n"
     ]
    }
   ],
   "source": [
    "%%time\n",
    "\n",
    "train = pd.read_parquet('data_fusion_train.parquet')"
   ]
  },
  {
   "cell_type": "code",
   "execution_count": 3,
   "metadata": {},
   "outputs": [
    {
     "output_type": "stream",
     "name": "stdout",
     "text": [
      "Wall time: 3.77 s\n"
     ]
    }
   ],
   "source": [
    "%%time\n",
    "\n",
    "train = train[train.category_id != -1]\n",
    "train['weight'] = 1\n",
    "train_unique = train.groupby('item_name').agg({'category_id': 'first', 'weight': 'sum'}).reset_index()"
   ]
  },
  {
   "cell_type": "code",
   "execution_count": 11,
   "metadata": {},
   "outputs": [
    {
     "output_type": "stream",
     "name": "stdout",
     "text": [
      "Wall time: 981 ms\n"
     ]
    }
   ],
   "source": [
    "%%time\n",
    "\n",
    "from sklearn.feature_extraction.text import TfidfVectorizer\n",
    "\n",
    "from nltk.corpus import stopwords\n",
    "\n",
    "stop = stopwords.words('russian')\n",
    "\n",
    "tfidf = TfidfVectorizer(stop_words = stop, ngram_range=(1,2), max_features=10000)\n",
    "X_train = tfidf.fit_transform(train_unique.item_name)\n",
    "y_train = train_unique['category_id']"
   ]
  },
  {
   "cell_type": "code",
   "execution_count": 12,
   "metadata": {},
   "outputs": [
    {
     "output_type": "execute_result",
     "data": {
      "text/plain": [
       "               weight\n",
       "category_id          \n",
       "203          0.205393\n",
       "84           0.138665\n",
       "80           0.102909\n",
       "78           0.077039\n",
       "71           0.065114\n",
       "...               ...\n",
       "100          0.000048\n",
       "1            0.000035\n",
       "106          0.000028\n",
       "97           0.000017\n",
       "46           0.000010\n",
       "\n",
       "[96 rows x 1 columns]"
      ],
      "text/html": "<div>\n<style scoped>\n    .dataframe tbody tr th:only-of-type {\n        vertical-align: middle;\n    }\n\n    .dataframe tbody tr th {\n        vertical-align: top;\n    }\n\n    .dataframe thead th {\n        text-align: right;\n    }\n</style>\n<table border=\"1\" class=\"dataframe\">\n  <thead>\n    <tr style=\"text-align: right;\">\n      <th></th>\n      <th>weight</th>\n    </tr>\n    <tr>\n      <th>category_id</th>\n      <th></th>\n    </tr>\n  </thead>\n  <tbody>\n    <tr>\n      <th>203</th>\n      <td>0.205393</td>\n    </tr>\n    <tr>\n      <th>84</th>\n      <td>0.138665</td>\n    </tr>\n    <tr>\n      <th>80</th>\n      <td>0.102909</td>\n    </tr>\n    <tr>\n      <th>78</th>\n      <td>0.077039</td>\n    </tr>\n    <tr>\n      <th>71</th>\n      <td>0.065114</td>\n    </tr>\n    <tr>\n      <th>...</th>\n      <td>...</td>\n    </tr>\n    <tr>\n      <th>100</th>\n      <td>0.000048</td>\n    </tr>\n    <tr>\n      <th>1</th>\n      <td>0.000035</td>\n    </tr>\n    <tr>\n      <th>106</th>\n      <td>0.000028</td>\n    </tr>\n    <tr>\n      <th>97</th>\n      <td>0.000017</td>\n    </tr>\n    <tr>\n      <th>46</th>\n      <td>0.000010</td>\n    </tr>\n  </tbody>\n</table>\n<p>96 rows × 1 columns</p>\n</div>"
     },
     "metadata": {},
     "execution_count": 12
    }
   ],
   "source": [
    "class_weights = train_unique.groupby('category_id').agg({'weight': 'sum'})\n",
    "class_weights /= class_weights.sum()\n",
    "\n",
    "class_weights = class_weights.sort_values('weight', ascending=False)\n",
    "class_weights"
   ]
  },
  {
   "cell_type": "code",
   "execution_count": 13,
   "metadata": {},
   "outputs": [],
   "source": [
    "class_weights = class_weights.to_dict()['weight']"
   ]
  },
  {
   "cell_type": "code",
   "execution_count": 14,
   "metadata": {},
   "outputs": [],
   "source": [
    "from sklearn.metrics import f1_score, make_scorer\n",
    "import numpy as np\n",
    "\n",
    "def f1_weighted(y, p):\n",
    "    resulted_f1 = []\n",
    "    for c in y.unique():\n",
    "        f1 = f1_score(y == c, p == c)\n",
    "        resulted_f1.append(f1 * class_weights[c])\n",
    "        \n",
    "    return np.sum(resulted_f1) \n",
    "\n",
    "f1_weighted_sc = make_scorer(f1_weighted)"
   ]
  },
  {
   "source": [
    "### Comparing different models"
   ],
   "cell_type": "markdown",
   "metadata": {}
  },
  {
   "cell_type": "code",
   "execution_count": 15,
   "metadata": {},
   "outputs": [],
   "source": [
    "def validate(model):\n",
    "    scores = cross_val_score(model, X_train, y_train, cv=8, scoring=f1_weighted_sc, n_jobs=-1)\n",
    "    print(np.mean(scores), ' ', np.std(scores))"
   ]
  },
  {
   "cell_type": "code",
   "execution_count": 17,
   "metadata": {},
   "outputs": [
    {
     "output_type": "stream",
     "name": "stdout",
     "text": [
      "Wall time: 0 ns\n"
     ]
    }
   ],
   "source": [
    "%%time\n",
    "\n",
    "from sklearn.svm import LinearSVC\n",
    "from sklearn.model_selection import cross_val_score"
   ]
  },
  {
   "cell_type": "code",
   "execution_count": 18,
   "metadata": {},
   "outputs": [
    {
     "output_type": "stream",
     "name": "stdout",
     "text": [
      "0.7057776519722815   0.06387441873327576\n"
     ]
    }
   ],
   "source": [
    "\n",
    "validate(LinearSVC())"
   ]
  },
  {
   "cell_type": "code",
   "execution_count": 27,
   "metadata": {},
   "outputs": [
    {
     "output_type": "stream",
     "name": "stdout",
     "text": [
      "0.5679528562547214   0.029861366420197773\n"
     ]
    }
   ],
   "source": [
    "from sklearn.linear_model import LogisticRegression\n",
    "validate(LogisticRegression())"
   ]
  },
  {
   "cell_type": "code",
   "execution_count": 19,
   "metadata": {},
   "outputs": [
    {
     "output_type": "stream",
     "name": "stdout",
     "text": [
      "0.5050306056047401   0.05505787541860906\n"
     ]
    }
   ],
   "source": [
    "from sklearn.neighbors import KNeighborsClassifier\n",
    "validate(KNeighborsClassifier(3))"
   ]
  },
  {
   "cell_type": "code",
   "execution_count": 20,
   "metadata": {},
   "outputs": [
    {
     "output_type": "error",
     "ename": "NameError",
     "evalue": "name 'SVC' is not defined",
     "traceback": [
      "\u001b[1;31m---------------------------------------------------------------------------\u001b[0m",
      "\u001b[1;31mNameError\u001b[0m                                 Traceback (most recent call last)",
      "\u001b[1;32m<ipython-input-20-cff0982e2694>\u001b[0m in \u001b[0;36m<module>\u001b[1;34m\u001b[0m\n\u001b[1;32m----> 1\u001b[1;33m \u001b[0mvalidate\u001b[0m\u001b[1;33m(\u001b[0m\u001b[0mSVC\u001b[0m\u001b[1;33m(\u001b[0m\u001b[1;33m)\u001b[0m\u001b[1;33m)\u001b[0m\u001b[1;33m\u001b[0m\u001b[1;33m\u001b[0m\u001b[0m\n\u001b[0m",
      "\u001b[1;31mNameError\u001b[0m: name 'SVC' is not defined"
     ]
    }
   ],
   "source": [
    "from sklearn.svm import SVC\n",
    "validate(SVC())"
   ]
  },
  {
   "cell_type": "code",
   "execution_count": 10,
   "metadata": {},
   "outputs": [
    {
     "name": "stdout",
     "output_type": "stream",
     "text": [
      "CPU times: user 3.1 s, sys: 27.1 ms, total: 3.13 s\n",
      "Wall time: 3.13 s\n"
     ]
    }
   ],
   "source": [
    "%%time\n",
    "\n",
    "clf = LinearSVC()\n",
    "_ = clf.fit(X_train, y_train)"
   ]
  },
  {
   "source": [
    "### Creating submission for website"
   ],
   "cell_type": "markdown",
   "metadata": {}
  },
  {
   "cell_type": "code",
   "execution_count": 11,
   "metadata": {},
   "outputs": [],
   "source": [
    "import pickle\n",
    "\n",
    "pickle.dump(tfidf, open('t1_sub/tfidf', 'wb'))\n",
    "pickle.dump(clf, open('t1_sub/clf_task1', 'wb'))"
   ]
  },
  {
   "cell_type": "code",
   "execution_count": 12,
   "metadata": {},
   "outputs": [
    {
     "name": "stdout",
     "output_type": "stream",
     "text": [
      "итого 12M\r\n",
      "-rw-r--r-- 1 dmitry.dremov dmitry.dremov  312 янв 30 21:37 answers.csv\r\n",
      "-rw-r--r-- 1 dmitry.dremov dmitry.dremov 7,4M янв 30 21:38 clf_task1\r\n",
      "drwxr-xr-x 2 dmitry.dremov dmitry.dremov 4,0K янв 30 18:06 data\r\n",
      "-rw-r--r-- 1 dmitry.dremov dmitry.dremov  352 янв 30 18:11 script.py\r\n",
      "-rw-r--r-- 1 dmitry.dremov dmitry.dremov 2,9M янв 30 21:38 submission.zip\r\n",
      "-rw-r--r-- 1 dmitry.dremov dmitry.dremov 1,3M янв 30 21:38 tfidf\r\n"
     ]
    }
   ],
   "source": [
    "!ls -lh t1_sub"
   ]
  },
  {
   "cell_type": "code",
   "execution_count": 13,
   "metadata": {},
   "outputs": [
    {
     "name": "stdout",
     "output_type": "stream",
     "text": [
      "['clf_task1', 'tfidf', 'script.py']\n",
      "-rw-r--r-- 1 dmitry.dremov dmitry.dremov 2,9M янв 30 21:38 t1_sub/submission.zip\r\n"
     ]
    }
   ],
   "source": [
    "import zipfile \n",
    "compression = zipfile.ZIP_DEFLATED\n",
    "\n",
    "submission_name = 't1_sub/submission.zip'\n",
    "with zipfile.ZipFile(submission_name, 'w') as zipObj:\n",
    "    for filename in [\n",
    "        'clf_task1',\n",
    "        'tfidf',\n",
    "        'script.py',\n",
    "    ]:\n",
    "        zipObj.write(\n",
    "            f't1_sub/{filename}', \n",
    "            arcname=filename, \n",
    "            compress_type=compression\n",
    "        )\n",
    "    print(zipObj.namelist())\n",
    "\n",
    "!ls -lh {submission_name}"
   ]
  },
  {
   "cell_type": "markdown",
   "metadata": {},
   "source": [
    "# Debug run"
   ]
  },
  {
   "cell_type": "code",
   "execution_count": 14,
   "metadata": {},
   "outputs": [],
   "source": [
    "!cd t1_sub; python3 script.py"
   ]
  },
  {
   "cell_type": "code",
   "execution_count": 15,
   "metadata": {},
   "outputs": [
    {
     "data": {
      "text/html": [
       "<div>\n",
       "<style scoped>\n",
       "    .dataframe tbody tr th:only-of-type {\n",
       "        vertical-align: middle;\n",
       "    }\n",
       "\n",
       "    .dataframe tbody tr th {\n",
       "        vertical-align: top;\n",
       "    }\n",
       "\n",
       "    .dataframe thead th {\n",
       "        text-align: right;\n",
       "    }\n",
       "</style>\n",
       "<table border=\"1\" class=\"dataframe\">\n",
       "  <thead>\n",
       "    <tr style=\"text-align: right;\">\n",
       "      <th></th>\n",
       "      <th>id</th>\n",
       "      <th>pred</th>\n",
       "    </tr>\n",
       "  </thead>\n",
       "  <tbody>\n",
       "    <tr>\n",
       "      <th>0</th>\n",
       "      <td>0</td>\n",
       "      <td>80</td>\n",
       "    </tr>\n",
       "    <tr>\n",
       "      <th>1</th>\n",
       "      <td>1</td>\n",
       "      <td>204</td>\n",
       "    </tr>\n",
       "    <tr>\n",
       "      <th>2</th>\n",
       "      <td>2</td>\n",
       "      <td>204</td>\n",
       "    </tr>\n",
       "    <tr>\n",
       "      <th>3</th>\n",
       "      <td>3</td>\n",
       "      <td>71</td>\n",
       "    </tr>\n",
       "    <tr>\n",
       "      <th>4</th>\n",
       "      <td>4</td>\n",
       "      <td>79</td>\n",
       "    </tr>\n",
       "  </tbody>\n",
       "</table>\n",
       "</div>"
      ],
      "text/plain": [
       "   id  pred\n",
       "0   0    80\n",
       "1   1   204\n",
       "2   2   204\n",
       "3   3    71\n",
       "4   4    79"
      ]
     },
     "execution_count": 15,
     "metadata": {},
     "output_type": "execute_result"
    }
   ],
   "source": [
    "pd.read_csv('t1_sub/answers.csv').head(5)"
   ]
  }
 ],
 "metadata": {
  "kernelspec": {
   "display_name": "Python 3",
   "language": "python",
   "name": "python3"
  },
  "language_info": {
   "codemirror_mode": {
    "name": "ipython",
    "version": 3
   },
   "file_extension": ".py",
   "mimetype": "text/x-python",
   "name": "python",
   "nbconvert_exporter": "python",
   "pygments_lexer": "ipython3",
   "version": "3.8.7-final"
  }
 },
 "nbformat": 4,
 "nbformat_minor": 2
}